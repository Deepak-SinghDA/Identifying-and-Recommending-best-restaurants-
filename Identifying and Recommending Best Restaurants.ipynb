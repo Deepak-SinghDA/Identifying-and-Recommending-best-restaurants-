{
 "cells": [
  {
   "cell_type": "code",
   "execution_count": 1,
   "id": "6959e50b",
   "metadata": {},
   "outputs": [],
   "source": [
    "import pandas as pd\n",
    "import numpy as np\n",
    "import matplotlib.pyplot as plt\n",
    "import seaborn as sns\n",
    "%matplotlib inline"
   ]
  },
  {
   "cell_type": "code",
   "execution_count": 5,
   "id": "7f4af22e",
   "metadata": {},
   "outputs": [
    {
     "data": {
      "text/html": [
       "<div>\n",
       "<style scoped>\n",
       "    .dataframe tbody tr th:only-of-type {\n",
       "        vertical-align: middle;\n",
       "    }\n",
       "\n",
       "    .dataframe tbody tr th {\n",
       "        vertical-align: top;\n",
       "    }\n",
       "\n",
       "    .dataframe thead th {\n",
       "        text-align: right;\n",
       "    }\n",
       "</style>\n",
       "<table border=\"1\" class=\"dataframe\">\n",
       "  <thead>\n",
       "    <tr style=\"text-align: right;\">\n",
       "      <th></th>\n",
       "      <th>Restaurant ID</th>\n",
       "      <th>Restaurant Name</th>\n",
       "      <th>Country Code</th>\n",
       "      <th>City</th>\n",
       "      <th>Address</th>\n",
       "      <th>Locality</th>\n",
       "      <th>Locality Verbose</th>\n",
       "      <th>Longitude</th>\n",
       "      <th>Latitude</th>\n",
       "      <th>Cuisines</th>\n",
       "      <th>Average Cost for two</th>\n",
       "      <th>Currency</th>\n",
       "      <th>Has Table booking</th>\n",
       "      <th>Has Online delivery</th>\n",
       "      <th>Price range</th>\n",
       "      <th>Aggregate rating</th>\n",
       "      <th>Rating color</th>\n",
       "      <th>Rating text</th>\n",
       "      <th>Votes</th>\n",
       "    </tr>\n",
       "  </thead>\n",
       "  <tbody>\n",
       "    <tr>\n",
       "      <th>0</th>\n",
       "      <td>7402935</td>\n",
       "      <td>Skye</td>\n",
       "      <td>94</td>\n",
       "      <td>Jakarta</td>\n",
       "      <td>Menara BCA, Lantai 56, Jl. MH. Thamrin, Thamri...</td>\n",
       "      <td>Grand Indonesia Mall, Thamrin</td>\n",
       "      <td>Grand Indonesia Mall, Thamrin, Jakarta</td>\n",
       "      <td>106.821999</td>\n",
       "      <td>-6.196778</td>\n",
       "      <td>Italian, Continental</td>\n",
       "      <td>800000</td>\n",
       "      <td>Indonesian Rupiah(IDR)</td>\n",
       "      <td>No</td>\n",
       "      <td>No</td>\n",
       "      <td>3</td>\n",
       "      <td>4.1</td>\n",
       "      <td>Green</td>\n",
       "      <td>Very Good</td>\n",
       "      <td>1498</td>\n",
       "    </tr>\n",
       "    <tr>\n",
       "      <th>1</th>\n",
       "      <td>7410290</td>\n",
       "      <td>Satoo - Hotel Shangri-La</td>\n",
       "      <td>94</td>\n",
       "      <td>Jakarta</td>\n",
       "      <td>Hotel Shangri-La, Jl. Jend. Sudirman</td>\n",
       "      <td>Hotel Shangri-La, Sudirman</td>\n",
       "      <td>Hotel Shangri-La, Sudirman, Jakarta</td>\n",
       "      <td>106.818961</td>\n",
       "      <td>-6.203292</td>\n",
       "      <td>Asian, Indonesian, Western</td>\n",
       "      <td>800000</td>\n",
       "      <td>Indonesian Rupiah(IDR)</td>\n",
       "      <td>No</td>\n",
       "      <td>No</td>\n",
       "      <td>3</td>\n",
       "      <td>4.6</td>\n",
       "      <td>Dark Green</td>\n",
       "      <td>Excellent</td>\n",
       "      <td>873</td>\n",
       "    </tr>\n",
       "    <tr>\n",
       "      <th>2</th>\n",
       "      <td>7420899</td>\n",
       "      <td>Sushi Masa</td>\n",
       "      <td>94</td>\n",
       "      <td>Jakarta</td>\n",
       "      <td>Jl. Tuna Raya No. 5, Penjaringan</td>\n",
       "      <td>Penjaringan</td>\n",
       "      <td>Penjaringan, Jakarta</td>\n",
       "      <td>106.800144</td>\n",
       "      <td>-6.101298</td>\n",
       "      <td>Sushi, Japanese</td>\n",
       "      <td>500000</td>\n",
       "      <td>Indonesian Rupiah(IDR)</td>\n",
       "      <td>No</td>\n",
       "      <td>No</td>\n",
       "      <td>3</td>\n",
       "      <td>4.9</td>\n",
       "      <td>Dark Green</td>\n",
       "      <td>Excellent</td>\n",
       "      <td>605</td>\n",
       "    </tr>\n",
       "    <tr>\n",
       "      <th>3</th>\n",
       "      <td>7421967</td>\n",
       "      <td>3 Wise Monkeys</td>\n",
       "      <td>94</td>\n",
       "      <td>Jakarta</td>\n",
       "      <td>Jl. Suryo No. 26, Senopati, Jakarta</td>\n",
       "      <td>Senopati</td>\n",
       "      <td>Senopati, Jakarta</td>\n",
       "      <td>106.813400</td>\n",
       "      <td>-6.235241</td>\n",
       "      <td>Japanese</td>\n",
       "      <td>450000</td>\n",
       "      <td>Indonesian Rupiah(IDR)</td>\n",
       "      <td>No</td>\n",
       "      <td>No</td>\n",
       "      <td>3</td>\n",
       "      <td>4.2</td>\n",
       "      <td>Green</td>\n",
       "      <td>Very Good</td>\n",
       "      <td>395</td>\n",
       "    </tr>\n",
       "    <tr>\n",
       "      <th>4</th>\n",
       "      <td>7422489</td>\n",
       "      <td>Avec Moi Restaurant and Bar</td>\n",
       "      <td>94</td>\n",
       "      <td>Jakarta</td>\n",
       "      <td>Gedung PIC, Jl. Teluk Betung 43, Thamrin, Jakarta</td>\n",
       "      <td>Thamrin</td>\n",
       "      <td>Thamrin, Jakarta</td>\n",
       "      <td>106.821023</td>\n",
       "      <td>-6.196270</td>\n",
       "      <td>French, Western</td>\n",
       "      <td>350000</td>\n",
       "      <td>Indonesian Rupiah(IDR)</td>\n",
       "      <td>No</td>\n",
       "      <td>No</td>\n",
       "      <td>3</td>\n",
       "      <td>4.3</td>\n",
       "      <td>Green</td>\n",
       "      <td>Very Good</td>\n",
       "      <td>243</td>\n",
       "    </tr>\n",
       "    <tr>\n",
       "      <th>...</th>\n",
       "      <td>...</td>\n",
       "      <td>...</td>\n",
       "      <td>...</td>\n",
       "      <td>...</td>\n",
       "      <td>...</td>\n",
       "      <td>...</td>\n",
       "      <td>...</td>\n",
       "      <td>...</td>\n",
       "      <td>...</td>\n",
       "      <td>...</td>\n",
       "      <td>...</td>\n",
       "      <td>...</td>\n",
       "      <td>...</td>\n",
       "      <td>...</td>\n",
       "      <td>...</td>\n",
       "      <td>...</td>\n",
       "      <td>...</td>\n",
       "      <td>...</td>\n",
       "      <td>...</td>\n",
       "    </tr>\n",
       "    <tr>\n",
       "      <th>9546</th>\n",
       "      <td>18279289</td>\n",
       "      <td>BMG - All Day Dining</td>\n",
       "      <td>1</td>\n",
       "      <td>Dehradun</td>\n",
       "      <td>140 A, Rajpur Road, Jakhan, Dehradun</td>\n",
       "      <td>Jakhan</td>\n",
       "      <td>Jakhan, Dehradun</td>\n",
       "      <td>78.068890</td>\n",
       "      <td>30.362686</td>\n",
       "      <td>Chinese, North Indian, Fast Food</td>\n",
       "      <td>0</td>\n",
       "      <td>Indian Rupees(Rs.)</td>\n",
       "      <td>No</td>\n",
       "      <td>No</td>\n",
       "      <td>1</td>\n",
       "      <td>4.3</td>\n",
       "      <td>Green</td>\n",
       "      <td>Very Good</td>\n",
       "      <td>63</td>\n",
       "    </tr>\n",
       "    <tr>\n",
       "      <th>9547</th>\n",
       "      <td>2300497</td>\n",
       "      <td>Atmosphere Grill Cafe Sheesha</td>\n",
       "      <td>1</td>\n",
       "      <td>Kanpur</td>\n",
       "      <td>8th Floor, J.S. Tower, 16/106 - Mall Road, Kan...</td>\n",
       "      <td>Mall Road</td>\n",
       "      <td>Mall Road, Kanpur</td>\n",
       "      <td>80.354002</td>\n",
       "      <td>26.472001</td>\n",
       "      <td>Indian, Chinese, Continental</td>\n",
       "      <td>0</td>\n",
       "      <td>Indian Rupees(Rs.)</td>\n",
       "      <td>No</td>\n",
       "      <td>No</td>\n",
       "      <td>1</td>\n",
       "      <td>3.6</td>\n",
       "      <td>Yellow</td>\n",
       "      <td>Good</td>\n",
       "      <td>34</td>\n",
       "    </tr>\n",
       "    <tr>\n",
       "      <th>9548</th>\n",
       "      <td>18312106</td>\n",
       "      <td>UrbanCrave</td>\n",
       "      <td>1</td>\n",
       "      <td>Kanpur</td>\n",
       "      <td>14/125, The Mall, Mall Road, Colonelganj, Para...</td>\n",
       "      <td>Parade</td>\n",
       "      <td>Parade, Kanpur</td>\n",
       "      <td>80.342796</td>\n",
       "      <td>26.474986</td>\n",
       "      <td>Cafe, Continental, Desserts, Ice Cream, Italia...</td>\n",
       "      <td>0</td>\n",
       "      <td>Indian Rupees(Rs.)</td>\n",
       "      <td>No</td>\n",
       "      <td>No</td>\n",
       "      <td>1</td>\n",
       "      <td>3.9</td>\n",
       "      <td>Yellow</td>\n",
       "      <td>Good</td>\n",
       "      <td>127</td>\n",
       "    </tr>\n",
       "    <tr>\n",
       "      <th>9549</th>\n",
       "      <td>3900245</td>\n",
       "      <td>Deena Chat Bhandar</td>\n",
       "      <td>1</td>\n",
       "      <td>Varanasi</td>\n",
       "      <td>D-47/184, Luxa Road, Dashaswmedh Road, Varanasi</td>\n",
       "      <td>Dashaswmedh Road</td>\n",
       "      <td>Dashaswmedh Road, Varanasi</td>\n",
       "      <td>0.000000</td>\n",
       "      <td>0.000000</td>\n",
       "      <td>Street Food</td>\n",
       "      <td>0</td>\n",
       "      <td>Indian Rupees(Rs.)</td>\n",
       "      <td>No</td>\n",
       "      <td>No</td>\n",
       "      <td>1</td>\n",
       "      <td>3.8</td>\n",
       "      <td>Yellow</td>\n",
       "      <td>Good</td>\n",
       "      <td>78</td>\n",
       "    </tr>\n",
       "    <tr>\n",
       "      <th>9550</th>\n",
       "      <td>18246202</td>\n",
       "      <td>VNS Live Studio</td>\n",
       "      <td>1</td>\n",
       "      <td>Varanasi</td>\n",
       "      <td>Hotel Varuna Ground Floor, 22 Gulab Bagh, Sigr...</td>\n",
       "      <td>Sigra</td>\n",
       "      <td>Sigra, Varanasi</td>\n",
       "      <td>82.991694</td>\n",
       "      <td>25.318345</td>\n",
       "      <td>Chinese, North Indian</td>\n",
       "      <td>0</td>\n",
       "      <td>Indian Rupees(Rs.)</td>\n",
       "      <td>No</td>\n",
       "      <td>No</td>\n",
       "      <td>1</td>\n",
       "      <td>3.5</td>\n",
       "      <td>Yellow</td>\n",
       "      <td>Good</td>\n",
       "      <td>109</td>\n",
       "    </tr>\n",
       "  </tbody>\n",
       "</table>\n",
       "<p>9551 rows × 19 columns</p>\n",
       "</div>"
      ],
      "text/plain": [
       "      Restaurant ID                Restaurant Name  Country Code      City  \\\n",
       "0           7402935                           Skye            94   Jakarta   \n",
       "1           7410290       Satoo - Hotel Shangri-La            94   Jakarta   \n",
       "2           7420899                     Sushi Masa            94   Jakarta   \n",
       "3           7421967                 3 Wise Monkeys            94   Jakarta   \n",
       "4           7422489    Avec Moi Restaurant and Bar            94   Jakarta   \n",
       "...             ...                            ...           ...       ...   \n",
       "9546       18279289           BMG - All Day Dining             1  Dehradun   \n",
       "9547        2300497  Atmosphere Grill Cafe Sheesha             1    Kanpur   \n",
       "9548       18312106                     UrbanCrave             1    Kanpur   \n",
       "9549        3900245             Deena Chat Bhandar             1  Varanasi   \n",
       "9550       18246202                VNS Live Studio             1  Varanasi   \n",
       "\n",
       "                                                Address  \\\n",
       "0     Menara BCA, Lantai 56, Jl. MH. Thamrin, Thamri...   \n",
       "1                  Hotel Shangri-La, Jl. Jend. Sudirman   \n",
       "2                      Jl. Tuna Raya No. 5, Penjaringan   \n",
       "3                   Jl. Suryo No. 26, Senopati, Jakarta   \n",
       "4     Gedung PIC, Jl. Teluk Betung 43, Thamrin, Jakarta   \n",
       "...                                                 ...   \n",
       "9546               140 A, Rajpur Road, Jakhan, Dehradun   \n",
       "9547  8th Floor, J.S. Tower, 16/106 - Mall Road, Kan...   \n",
       "9548  14/125, The Mall, Mall Road, Colonelganj, Para...   \n",
       "9549    D-47/184, Luxa Road, Dashaswmedh Road, Varanasi   \n",
       "9550  Hotel Varuna Ground Floor, 22 Gulab Bagh, Sigr...   \n",
       "\n",
       "                           Locality                        Locality Verbose  \\\n",
       "0     Grand Indonesia Mall, Thamrin  Grand Indonesia Mall, Thamrin, Jakarta   \n",
       "1        Hotel Shangri-La, Sudirman     Hotel Shangri-La, Sudirman, Jakarta   \n",
       "2                       Penjaringan                    Penjaringan, Jakarta   \n",
       "3                          Senopati                       Senopati, Jakarta   \n",
       "4                           Thamrin                        Thamrin, Jakarta   \n",
       "...                             ...                                     ...   \n",
       "9546                         Jakhan                        Jakhan, Dehradun   \n",
       "9547                      Mall Road                       Mall Road, Kanpur   \n",
       "9548                         Parade                          Parade, Kanpur   \n",
       "9549               Dashaswmedh Road              Dashaswmedh Road, Varanasi   \n",
       "9550                          Sigra                         Sigra, Varanasi   \n",
       "\n",
       "       Longitude   Latitude  \\\n",
       "0     106.821999  -6.196778   \n",
       "1     106.818961  -6.203292   \n",
       "2     106.800144  -6.101298   \n",
       "3     106.813400  -6.235241   \n",
       "4     106.821023  -6.196270   \n",
       "...          ...        ...   \n",
       "9546   78.068890  30.362686   \n",
       "9547   80.354002  26.472001   \n",
       "9548   80.342796  26.474986   \n",
       "9549    0.000000   0.000000   \n",
       "9550   82.991694  25.318345   \n",
       "\n",
       "                                               Cuisines  Average Cost for two  \\\n",
       "0                                  Italian, Continental                800000   \n",
       "1                            Asian, Indonesian, Western                800000   \n",
       "2                                       Sushi, Japanese                500000   \n",
       "3                                              Japanese                450000   \n",
       "4                                       French, Western                350000   \n",
       "...                                                 ...                   ...   \n",
       "9546                   Chinese, North Indian, Fast Food                     0   \n",
       "9547                       Indian, Chinese, Continental                     0   \n",
       "9548  Cafe, Continental, Desserts, Ice Cream, Italia...                     0   \n",
       "9549                                        Street Food                     0   \n",
       "9550                              Chinese, North Indian                     0   \n",
       "\n",
       "                    Currency Has Table booking Has Online delivery  \\\n",
       "0     Indonesian Rupiah(IDR)                No                  No   \n",
       "1     Indonesian Rupiah(IDR)                No                  No   \n",
       "2     Indonesian Rupiah(IDR)                No                  No   \n",
       "3     Indonesian Rupiah(IDR)                No                  No   \n",
       "4     Indonesian Rupiah(IDR)                No                  No   \n",
       "...                      ...               ...                 ...   \n",
       "9546      Indian Rupees(Rs.)                No                  No   \n",
       "9547      Indian Rupees(Rs.)                No                  No   \n",
       "9548      Indian Rupees(Rs.)                No                  No   \n",
       "9549      Indian Rupees(Rs.)                No                  No   \n",
       "9550      Indian Rupees(Rs.)                No                  No   \n",
       "\n",
       "      Price range  Aggregate rating Rating color Rating text  Votes  \n",
       "0               3               4.1        Green   Very Good   1498  \n",
       "1               3               4.6   Dark Green   Excellent    873  \n",
       "2               3               4.9   Dark Green   Excellent    605  \n",
       "3               3               4.2        Green   Very Good    395  \n",
       "4               3               4.3        Green   Very Good    243  \n",
       "...           ...               ...          ...         ...    ...  \n",
       "9546            1               4.3        Green   Very Good     63  \n",
       "9547            1               3.6       Yellow        Good     34  \n",
       "9548            1               3.9       Yellow        Good    127  \n",
       "9549            1               3.8       Yellow        Good     78  \n",
       "9550            1               3.5       Yellow        Good    109  \n",
       "\n",
       "[9551 rows x 19 columns]"
      ]
     },
     "execution_count": 5,
     "metadata": {},
     "output_type": "execute_result"
    }
   ],
   "source": [
    "df=pd.read_excel('data dacp1.xlsx');df"
   ]
  },
  {
   "cell_type": "markdown",
   "id": "69d3a316",
   "metadata": {},
   "source": [
    "# structure of the data"
   ]
  },
  {
   "cell_type": "code",
   "execution_count": 3,
   "id": "a70f675d",
   "metadata": {},
   "outputs": [
    {
     "data": {
      "text/plain": [
       "(9551, 19)"
      ]
     },
     "execution_count": 3,
     "metadata": {},
     "output_type": "execute_result"
    }
   ],
   "source": [
    "df.shape"
   ]
  },
  {
   "cell_type": "code",
   "execution_count": 4,
   "id": "a8ae0e60",
   "metadata": {},
   "outputs": [
    {
     "name": "stdout",
     "output_type": "stream",
     "text": [
      "<class 'pandas.core.frame.DataFrame'>\n",
      "RangeIndex: 9551 entries, 0 to 9550\n",
      "Data columns (total 19 columns):\n",
      " #   Column                Non-Null Count  Dtype  \n",
      "---  ------                --------------  -----  \n",
      " 0   Restaurant ID         9551 non-null   int64  \n",
      " 1   Restaurant Name       9550 non-null   object \n",
      " 2   Country Code          9551 non-null   int64  \n",
      " 3   City                  9551 non-null   object \n",
      " 4   Address               9551 non-null   object \n",
      " 5   Locality              9551 non-null   object \n",
      " 6   Locality Verbose      9551 non-null   object \n",
      " 7   Longitude             9551 non-null   float64\n",
      " 8   Latitude              9551 non-null   float64\n",
      " 9   Cuisines              9542 non-null   object \n",
      " 10  Average Cost for two  9551 non-null   int64  \n",
      " 11  Currency              9551 non-null   object \n",
      " 12  Has Table booking     9551 non-null   object \n",
      " 13  Has Online delivery   9551 non-null   object \n",
      " 14  Price range           9551 non-null   int64  \n",
      " 15  Aggregate rating      9551 non-null   float64\n",
      " 16  Rating color          9551 non-null   object \n",
      " 17  Rating text           9551 non-null   object \n",
      " 18  Votes                 9551 non-null   int64  \n",
      "dtypes: float64(3), int64(5), object(11)\n",
      "memory usage: 1.4+ MB\n"
     ]
    }
   ],
   "source": [
    "df.info()"
   ]
  },
  {
   "cell_type": "code",
   "execution_count": 5,
   "id": "8340617d",
   "metadata": {},
   "outputs": [
    {
     "data": {
      "text/html": [
       "<div>\n",
       "<style scoped>\n",
       "    .dataframe tbody tr th:only-of-type {\n",
       "        vertical-align: middle;\n",
       "    }\n",
       "\n",
       "    .dataframe tbody tr th {\n",
       "        vertical-align: top;\n",
       "    }\n",
       "\n",
       "    .dataframe thead th {\n",
       "        text-align: right;\n",
       "    }\n",
       "</style>\n",
       "<table border=\"1\" class=\"dataframe\">\n",
       "  <thead>\n",
       "    <tr style=\"text-align: right;\">\n",
       "      <th></th>\n",
       "      <th>Country Code</th>\n",
       "      <th>Country</th>\n",
       "    </tr>\n",
       "  </thead>\n",
       "  <tbody>\n",
       "    <tr>\n",
       "      <th>0</th>\n",
       "      <td>1</td>\n",
       "      <td>India</td>\n",
       "    </tr>\n",
       "    <tr>\n",
       "      <th>1</th>\n",
       "      <td>14</td>\n",
       "      <td>Australia</td>\n",
       "    </tr>\n",
       "    <tr>\n",
       "      <th>2</th>\n",
       "      <td>30</td>\n",
       "      <td>Brazil</td>\n",
       "    </tr>\n",
       "    <tr>\n",
       "      <th>3</th>\n",
       "      <td>37</td>\n",
       "      <td>Canada</td>\n",
       "    </tr>\n",
       "    <tr>\n",
       "      <th>4</th>\n",
       "      <td>94</td>\n",
       "      <td>Indonesia</td>\n",
       "    </tr>\n",
       "  </tbody>\n",
       "</table>\n",
       "</div>"
      ],
      "text/plain": [
       "   Country Code    Country\n",
       "0             1      India\n",
       "1            14  Australia\n",
       "2            30     Brazil\n",
       "3            37     Canada\n",
       "4            94  Indonesia"
      ]
     },
     "execution_count": 5,
     "metadata": {},
     "output_type": "execute_result"
    }
   ],
   "source": [
    "df_country=pd.read_excel('Country-Code dacp1.xlsx')\n",
    "df_country.head()"
   ]
  },
  {
   "cell_type": "code",
   "execution_count": 6,
   "id": "721a5e71",
   "metadata": {},
   "outputs": [
    {
     "data": {
      "text/plain": [
       "Index(['Restaurant ID', 'Restaurant Name', 'Country Code', 'City', 'Address',\n",
       "       'Locality', 'Locality Verbose', 'Longitude', 'Latitude', 'Cuisines',\n",
       "       'Average Cost for two', 'Currency', 'Has Table booking',\n",
       "       'Has Online delivery', 'Price range', 'Aggregate rating',\n",
       "       'Rating color', 'Rating text', 'Votes'],\n",
       "      dtype='object')"
      ]
     },
     "execution_count": 6,
     "metadata": {},
     "output_type": "execute_result"
    }
   ],
   "source": [
    "df.columns"
   ]
  },
  {
   "cell_type": "code",
   "execution_count": 7,
   "id": "b82319a1",
   "metadata": {},
   "outputs": [],
   "source": [
    "final_df=pd.merge(df,df_country,how= 'inner',on='Country Code')"
   ]
  },
  {
   "cell_type": "code",
   "execution_count": 8,
   "id": "58c40fc4",
   "metadata": {},
   "outputs": [
    {
     "data": {
      "text/plain": [
       "Restaurant ID             int64\n",
       "Restaurant Name          object\n",
       "Country Code              int64\n",
       "City                     object\n",
       "Address                  object\n",
       "Locality                 object\n",
       "Locality Verbose         object\n",
       "Longitude               float64\n",
       "Latitude                float64\n",
       "Cuisines                 object\n",
       "Average Cost for two      int64\n",
       "Currency                 object\n",
       "Has Table booking        object\n",
       "Has Online delivery      object\n",
       "Price range               int64\n",
       "Aggregate rating        float64\n",
       "Rating color             object\n",
       "Rating text              object\n",
       "Votes                     int64\n",
       "Country                  object\n",
       "dtype: object"
      ]
     },
     "execution_count": 8,
     "metadata": {},
     "output_type": "execute_result"
    }
   ],
   "source": [
    "final_df.dtypes"
   ]
  },
  {
   "cell_type": "markdown",
   "id": "f9a39fa8",
   "metadata": {},
   "source": [
    "# missing values"
   ]
  },
  {
   "cell_type": "code",
   "execution_count": 9,
   "id": "00918d04",
   "metadata": {},
   "outputs": [
    {
     "data": {
      "text/plain": [
       "Restaurant ID           0\n",
       "Restaurant Name         1\n",
       "Country Code            0\n",
       "City                    0\n",
       "Address                 0\n",
       "Locality                0\n",
       "Locality Verbose        0\n",
       "Longitude               0\n",
       "Latitude                0\n",
       "Cuisines                9\n",
       "Average Cost for two    0\n",
       "Currency                0\n",
       "Has Table booking       0\n",
       "Has Online delivery     0\n",
       "Price range             0\n",
       "Aggregate rating        0\n",
       "Rating color            0\n",
       "Rating text             0\n",
       "Votes                   0\n",
       "Country                 0\n",
       "dtype: int64"
      ]
     },
     "execution_count": 9,
     "metadata": {},
     "output_type": "execute_result"
    }
   ],
   "source": [
    "final_df.isnull().sum()"
   ]
  },
  {
   "cell_type": "code",
   "execution_count": 10,
   "id": "1c4d9a75",
   "metadata": {},
   "outputs": [
    {
     "data": {
      "text/html": [
       "<div>\n",
       "<style scoped>\n",
       "    .dataframe tbody tr th:only-of-type {\n",
       "        vertical-align: middle;\n",
       "    }\n",
       "\n",
       "    .dataframe tbody tr th {\n",
       "        vertical-align: top;\n",
       "    }\n",
       "\n",
       "    .dataframe thead th {\n",
       "        text-align: right;\n",
       "    }\n",
       "</style>\n",
       "<table border=\"1\" class=\"dataframe\">\n",
       "  <thead>\n",
       "    <tr style=\"text-align: right;\">\n",
       "      <th></th>\n",
       "      <th>Restaurant ID</th>\n",
       "      <th>Restaurant Name</th>\n",
       "      <th>Country Code</th>\n",
       "      <th>City</th>\n",
       "      <th>Address</th>\n",
       "      <th>Locality</th>\n",
       "      <th>Locality Verbose</th>\n",
       "      <th>Longitude</th>\n",
       "      <th>Latitude</th>\n",
       "      <th>Cuisines</th>\n",
       "      <th>Average Cost for two</th>\n",
       "      <th>Currency</th>\n",
       "      <th>Has Table booking</th>\n",
       "      <th>Has Online delivery</th>\n",
       "      <th>Price range</th>\n",
       "      <th>Aggregate rating</th>\n",
       "      <th>Rating color</th>\n",
       "      <th>Rating text</th>\n",
       "      <th>Votes</th>\n",
       "      <th>Country</th>\n",
       "    </tr>\n",
       "  </thead>\n",
       "  <tbody>\n",
       "    <tr>\n",
       "      <th>1603</th>\n",
       "      <td>113702</td>\n",
       "      <td>NaN</td>\n",
       "      <td>1</td>\n",
       "      <td>Ahmedabad</td>\n",
       "      <td>Opposite Sindhu Bhawan, Bodakdev, Ahmedabad</td>\n",
       "      <td>Bodakdev</td>\n",
       "      <td>Bodakdev, Ahmedabad</td>\n",
       "      <td>72.501764</td>\n",
       "      <td>23.040163</td>\n",
       "      <td>North Indian, Continental, Mexican, Italian</td>\n",
       "      <td>800</td>\n",
       "      <td>Indian Rupees(Rs.)</td>\n",
       "      <td>No</td>\n",
       "      <td>No</td>\n",
       "      <td>3</td>\n",
       "      <td>4.1</td>\n",
       "      <td>Green</td>\n",
       "      <td>Very Good</td>\n",
       "      <td>769</td>\n",
       "      <td>India</td>\n",
       "    </tr>\n",
       "  </tbody>\n",
       "</table>\n",
       "</div>"
      ],
      "text/plain": [
       "      Restaurant ID Restaurant Name  Country Code       City  \\\n",
       "1603         113702             NaN             1  Ahmedabad   \n",
       "\n",
       "                                          Address  Locality  \\\n",
       "1603  Opposite Sindhu Bhawan, Bodakdev, Ahmedabad  Bodakdev   \n",
       "\n",
       "         Locality Verbose  Longitude   Latitude  \\\n",
       "1603  Bodakdev, Ahmedabad  72.501764  23.040163   \n",
       "\n",
       "                                         Cuisines  Average Cost for two  \\\n",
       "1603  North Indian, Continental, Mexican, Italian                   800   \n",
       "\n",
       "                Currency Has Table booking Has Online delivery  Price range  \\\n",
       "1603  Indian Rupees(Rs.)                No                  No            3   \n",
       "\n",
       "      Aggregate rating Rating color Rating text  Votes Country  \n",
       "1603               4.1        Green   Very Good    769   India  "
      ]
     },
     "execution_count": 10,
     "metadata": {},
     "output_type": "execute_result"
    }
   ],
   "source": [
    "final_df[final_df['Restaurant Name'].isnull()]"
   ]
  },
  {
   "cell_type": "markdown",
   "id": "03b61d0e",
   "metadata": {},
   "source": [
    "# duplicates"
   ]
  },
  {
   "cell_type": "code",
   "execution_count": null,
   "id": "edaa47ec",
   "metadata": {},
   "outputs": [],
   "source": []
  },
  {
   "cell_type": "code",
   "execution_count": 11,
   "id": "9a1e25c1",
   "metadata": {},
   "outputs": [
    {
     "data": {
      "text/plain": [
       "0"
      ]
     },
     "execution_count": 11,
     "metadata": {},
     "output_type": "execute_result"
    }
   ],
   "source": [
    "final_df.duplicated().sum()"
   ]
  },
  {
   "cell_type": "markdown",
   "id": "66a69fab",
   "metadata": {},
   "source": [
    "# Missing Values treatment"
   ]
  },
  {
   "cell_type": "code",
   "execution_count": null,
   "id": "818907ff",
   "metadata": {},
   "outputs": [],
   "source": []
  },
  {
   "cell_type": "code",
   "execution_count": 12,
   "id": "6af5976e",
   "metadata": {},
   "outputs": [
    {
     "data": {
      "text/plain": [
       "Cafe Coffee Day                    83\n",
       "Domino's Pizza                     79\n",
       "Subway                             63\n",
       "Green Chick Chop                   51\n",
       "McDonald's                         48\n",
       "                                   ..\n",
       "The Tea Place by Manjushree         1\n",
       "Hind Bakery & Chinese Fast Food     1\n",
       "Khansama                            1\n",
       "Delhi 6 Foods                       1\n",
       "Meraaki Kitchen                     1\n",
       "Name: Restaurant Name, Length: 7445, dtype: int64"
      ]
     },
     "execution_count": 12,
     "metadata": {},
     "output_type": "execute_result"
    }
   ],
   "source": [
    "final_df['Restaurant Name'].value_counts()"
   ]
  },
  {
   "cell_type": "code",
   "execution_count": 13,
   "id": "4b37d219",
   "metadata": {},
   "outputs": [
    {
     "data": {
      "text/plain": [
       "'Cafe Coffee Day'"
      ]
     },
     "execution_count": 13,
     "metadata": {},
     "output_type": "execute_result"
    }
   ],
   "source": [
    "final_df['Restaurant Name'].mode()[0]"
   ]
  },
  {
   "cell_type": "code",
   "execution_count": 14,
   "id": "a25f9c77",
   "metadata": {},
   "outputs": [],
   "source": [
    "final_df['Restaurant Name'].replace(np.nan,final_df['Restaurant Name'].mode()[0],inplace=True)"
   ]
  },
  {
   "cell_type": "code",
   "execution_count": 15,
   "id": "356df747",
   "metadata": {},
   "outputs": [
    {
     "data": {
      "text/plain": [
       "North Indian                                                           936\n",
       "North Indian, Chinese                                                  511\n",
       "Fast Food                                                              354\n",
       "Chinese                                                                354\n",
       "North Indian, Mughlai                                                  334\n",
       "                                                                      ... \n",
       "North Indian, South Indian, Fast Food, Street Food, Chinese, Mithai      1\n",
       "North Indian, South Indian, Chinese, Street Food, Fast Food, Mithai      1\n",
       "World Cuisine, Patisserie, Cafe                                          1\n",
       "African                                                                  1\n",
       "North Indian, Mangalorean, Chinese                                       1\n",
       "Name: Cuisines, Length: 1825, dtype: int64"
      ]
     },
     "execution_count": 15,
     "metadata": {},
     "output_type": "execute_result"
    }
   ],
   "source": [
    "final_df['Cuisines'].value_counts()"
   ]
  },
  {
   "cell_type": "code",
   "execution_count": 16,
   "id": "9d0b7b77",
   "metadata": {},
   "outputs": [
    {
     "data": {
      "text/plain": [
       "'North Indian'"
      ]
     },
     "execution_count": 16,
     "metadata": {},
     "output_type": "execute_result"
    }
   ],
   "source": [
    "final_df['Cuisines'].mode()[0]"
   ]
  },
  {
   "cell_type": "code",
   "execution_count": 17,
   "id": "9cb255e7",
   "metadata": {},
   "outputs": [],
   "source": [
    "final_df['Cuisines'].replace(np.nan,final_df['Cuisines'].mode()[0],inplace=True)"
   ]
  },
  {
   "cell_type": "code",
   "execution_count": 18,
   "id": "2e47c385",
   "metadata": {},
   "outputs": [
    {
     "data": {
      "text/plain": [
       "Restaurant ID           0\n",
       "Restaurant Name         0\n",
       "Country Code            0\n",
       "City                    0\n",
       "Address                 0\n",
       "Locality                0\n",
       "Locality Verbose        0\n",
       "Longitude               0\n",
       "Latitude                0\n",
       "Cuisines                0\n",
       "Average Cost for two    0\n",
       "Currency                0\n",
       "Has Table booking       0\n",
       "Has Online delivery     0\n",
       "Price range             0\n",
       "Aggregate rating        0\n",
       "Rating color            0\n",
       "Rating text             0\n",
       "Votes                   0\n",
       "Country                 0\n",
       "dtype: int64"
      ]
     },
     "execution_count": 18,
     "metadata": {},
     "output_type": "execute_result"
    }
   ],
   "source": [
    "final_df.isnull().sum()"
   ]
  },
  {
   "cell_type": "markdown",
   "id": "cec822ca",
   "metadata": {},
   "source": [
    "# Performing EDA:"
   ]
  },
  {
   "cell_type": "markdown",
   "id": "6bd741d0",
   "metadata": {},
   "source": [
    "3.Explore the geographical distribution of the restaurants and identify the cities with the maximum and minimum number of restaurants"
   ]
  },
  {
   "cell_type": "code",
   "execution_count": 19,
   "id": "f547b2ff",
   "metadata": {},
   "outputs": [
    {
     "data": {
      "text/plain": [
       "Index(['Restaurant ID', 'Restaurant Name', 'Country Code', 'City', 'Address',\n",
       "       'Locality', 'Locality Verbose', 'Longitude', 'Latitude', 'Cuisines',\n",
       "       'Average Cost for two', 'Currency', 'Has Table booking',\n",
       "       'Has Online delivery', 'Price range', 'Aggregate rating',\n",
       "       'Rating color', 'Rating text', 'Votes', 'Country'],\n",
       "      dtype='object')"
      ]
     },
     "execution_count": 19,
     "metadata": {},
     "output_type": "execute_result"
    }
   ],
   "source": [
    "final_df.columns"
   ]
  },
  {
   "cell_type": "code",
   "execution_count": 20,
   "id": "d0022690",
   "metadata": {},
   "outputs": [
    {
     "data": {
      "text/plain": [
       "<pandas.core.groupby.generic.DataFrameGroupBy object at 0x00000039716BCAC0>"
      ]
     },
     "execution_count": 20,
     "metadata": {},
     "output_type": "execute_result"
    }
   ],
   "source": [
    "final_df.groupby(['City'])"
   ]
  },
  {
   "cell_type": "code",
   "execution_count": 21,
   "id": "c61e9c66",
   "metadata": {},
   "outputs": [
    {
     "data": {
      "text/plain": [
       "City\n",
       "New Delhi      5473\n",
       "Gurgaon        1118\n",
       "Noida          1080\n",
       "Faridabad       251\n",
       "Ghaziabad        25\n",
       "               ... \n",
       "Dicky Beach       1\n",
       "Lorn              1\n",
       "Quezon City       1\n",
       "Lincoln           1\n",
       "Lakeview          1\n",
       "Length: 141, dtype: int64"
      ]
     },
     "execution_count": 21,
     "metadata": {},
     "output_type": "execute_result"
    }
   ],
   "source": [
    "final_df.groupby(['City']).size().sort_values(ascending=False)"
   ]
  },
  {
   "cell_type": "code",
   "execution_count": 22,
   "id": "95acb2fc",
   "metadata": {},
   "outputs": [
    {
     "data": {
      "text/plain": [
       "City\n",
       "Huskisson           1\n",
       "Tagaytay City       1\n",
       "Lakes Entrance      1\n",
       "Beechworth          1\n",
       "East Ballina        1\n",
       "Bandung             1\n",
       "Balingup            1\n",
       "Yorkton             1\n",
       "Fernley             1\n",
       "Winchester Bay      1\n",
       "Flaxton             1\n",
       "Tanunda             1\n",
       "Inverloch           1\n",
       "Weirton             1\n",
       "Armidale            1\n",
       "Vernonia            1\n",
       "Victor Harbor       1\n",
       "Vineland Station    1\n",
       "Trentham East       1\n",
       "Mohali              1\n",
       "Monroe              1\n",
       "Randburg            1\n",
       "Montville           1\n",
       "Miller              1\n",
       "Consort             1\n",
       "Middleton Beach     1\n",
       "Mc Millan           1\n",
       "Mayfield            1\n",
       "Cochrane            1\n",
       "Ojo Caliente        1\n",
       "Clatskanie          1\n",
       "Palm Cove           1\n",
       "Panchkula           1\n",
       "Forrest             1\n",
       "Paynesville         1\n",
       "Penola              1\n",
       "Chatham-Kent        1\n",
       "Phillip Island      1\n",
       "Potrero             1\n",
       "Macedon             1\n",
       "Princeton           1\n",
       "Dicky Beach         1\n",
       "Lorn                1\n",
       "Quezon City         1\n",
       "Lincoln             1\n",
       "Lakeview            1\n",
       "dtype: int64"
      ]
     },
     "execution_count": 22,
     "metadata": {},
     "output_type": "execute_result"
    }
   ],
   "source": [
    "final_df.groupby(['City']).size().sort_values(ascending=False).tail(46)"
   ]
  },
  {
   "cell_type": "markdown",
   "id": "111a7e58",
   "metadata": {},
   "source": [
    "Observation:<br>1.New Delhi has maximum no of restaurants that are 5473<br>2. 46 Cites have minimum no of restaurants that is 1"
   ]
  },
  {
   "cell_type": "markdown",
   "id": "3988c020",
   "metadata": {},
   "source": []
  },
  {
   "cell_type": "code",
   "execution_count": 23,
   "id": "94c48be1",
   "metadata": {},
   "outputs": [
    {
     "data": {
      "text/plain": [
       "Restaurant Name                   City     \n",
       "Cafe Coffee Day                   New Delhi    57\n",
       "Domino's Pizza                    New Delhi    55\n",
       "Subway                            New Delhi    38\n",
       "Green Chick Chop                  New Delhi    37\n",
       "McDonald's                        New Delhi    33\n",
       "                                               ..\n",
       "Gazebo                            Abu Dhabi     1\n",
       "Gayway Bakery                     New Delhi     1\n",
       "Gayatri's Break Point Restaurant  New Delhi     1\n",
       "Gautam Bakery                     Gurgaon       1\n",
       "Ìàukura€Ùa Sofras€±               Ankara        1\n",
       "Length: 7974, dtype: int64"
      ]
     },
     "execution_count": 23,
     "metadata": {},
     "output_type": "execute_result"
    }
   ],
   "source": [
    "final_df.groupby(['Restaurant Name','City']).size().sort_values(ascending=False)"
   ]
  },
  {
   "cell_type": "code",
   "execution_count": null,
   "id": "29bb29f9",
   "metadata": {},
   "outputs": [],
   "source": []
  },
  {
   "cell_type": "code",
   "execution_count": 24,
   "id": "eee9fa67",
   "metadata": {},
   "outputs": [],
   "source": [
    "f1=final_df.groupby(['Restaurant Name','City']).size()==1"
   ]
  },
  {
   "cell_type": "code",
   "execution_count": 25,
   "id": "04528278",
   "metadata": {},
   "outputs": [
    {
     "data": {
      "text/plain": [
       "7974"
      ]
     },
     "execution_count": 25,
     "metadata": {},
     "output_type": "execute_result"
    }
   ],
   "source": [
    "f1.size"
   ]
  },
  {
   "cell_type": "markdown",
   "id": "b1e918fe",
   "metadata": {},
   "source": [
    "Observations:\n",
    "    1. Cafe Coffee Day has the most restaurants in New Delhi\n",
    "    then  Domino's Pizza  has 55 restaurants."
   ]
  },
  {
   "cell_type": "markdown",
   "id": "c45d9300",
   "metadata": {},
   "source": [
    "4.Restaurant franchising is a thriving venture. So, it is very important to explore the franchise with most national presence"
   ]
  },
  {
   "cell_type": "code",
   "execution_count": 26,
   "id": "704509f9",
   "metadata": {},
   "outputs": [
    {
     "data": {
      "text/plain": [
       "Restaurant Name                  Country     \n",
       "Cafe Coffee Day                  India           84\n",
       "Domino's Pizza                   India           79\n",
       "Subway                           India           63\n",
       "Green Chick Chop                 India           51\n",
       "McDonald's                       India           48\n",
       "                                                 ..\n",
       "Gibson's Gourmet Burgers & Ribs  South Africa     1\n",
       "Giapo                            New Zealand      1\n",
       "Giani's di Hatti                 India            1\n",
       "Gian Ji Punjabi Dhaba            India            1\n",
       "Ìàukura€Ùa Sofras€±              Turkey           1\n",
       "Length: 7472, dtype: int64"
      ]
     },
     "execution_count": 26,
     "metadata": {},
     "output_type": "execute_result"
    }
   ],
   "source": [
    "final_df.groupby(['Restaurant Name','Country']).size().sort_values(ascending=False)"
   ]
  },
  {
   "cell_type": "code",
   "execution_count": 27,
   "id": "6318d3f5",
   "metadata": {},
   "outputs": [
    {
     "data": {
      "text/html": [
       "<div>\n",
       "<style scoped>\n",
       "    .dataframe tbody tr th:only-of-type {\n",
       "        vertical-align: middle;\n",
       "    }\n",
       "\n",
       "    .dataframe tbody tr th {\n",
       "        vertical-align: top;\n",
       "    }\n",
       "\n",
       "    .dataframe thead th {\n",
       "        text-align: right;\n",
       "    }\n",
       "</style>\n",
       "<table border=\"1\" class=\"dataframe\">\n",
       "  <thead>\n",
       "    <tr style=\"text-align: right;\">\n",
       "      <th></th>\n",
       "      <th></th>\n",
       "      <th>Count</th>\n",
       "    </tr>\n",
       "    <tr>\n",
       "      <th>Restaurant Name</th>\n",
       "      <th>Country</th>\n",
       "      <th></th>\n",
       "    </tr>\n",
       "  </thead>\n",
       "  <tbody>\n",
       "    <tr>\n",
       "      <th>Cafe Coffee Day</th>\n",
       "      <th>India</th>\n",
       "      <td>84</td>\n",
       "    </tr>\n",
       "    <tr>\n",
       "      <th>Domino's Pizza</th>\n",
       "      <th>India</th>\n",
       "      <td>79</td>\n",
       "    </tr>\n",
       "    <tr>\n",
       "      <th>Subway</th>\n",
       "      <th>India</th>\n",
       "      <td>63</td>\n",
       "    </tr>\n",
       "    <tr>\n",
       "      <th>Green Chick Chop</th>\n",
       "      <th>India</th>\n",
       "      <td>51</td>\n",
       "    </tr>\n",
       "    <tr>\n",
       "      <th>McDonald's</th>\n",
       "      <th>India</th>\n",
       "      <td>48</td>\n",
       "    </tr>\n",
       "    <tr>\n",
       "      <th>...</th>\n",
       "      <th>...</th>\n",
       "      <td>...</td>\n",
       "    </tr>\n",
       "    <tr>\n",
       "      <th>Gibson's Gourmet Burgers &amp; Ribs</th>\n",
       "      <th>South Africa</th>\n",
       "      <td>1</td>\n",
       "    </tr>\n",
       "    <tr>\n",
       "      <th>Giapo</th>\n",
       "      <th>New Zealand</th>\n",
       "      <td>1</td>\n",
       "    </tr>\n",
       "    <tr>\n",
       "      <th>Giani's di Hatti</th>\n",
       "      <th>India</th>\n",
       "      <td>1</td>\n",
       "    </tr>\n",
       "    <tr>\n",
       "      <th>Gian Ji Punjabi Dhaba</th>\n",
       "      <th>India</th>\n",
       "      <td>1</td>\n",
       "    </tr>\n",
       "    <tr>\n",
       "      <th>Ìàukura€Ùa Sofras€±</th>\n",
       "      <th>Turkey</th>\n",
       "      <td>1</td>\n",
       "    </tr>\n",
       "  </tbody>\n",
       "</table>\n",
       "<p>7472 rows × 1 columns</p>\n",
       "</div>"
      ],
      "text/plain": [
       "                                              Count\n",
       "Restaurant Name                 Country            \n",
       "Cafe Coffee Day                 India            84\n",
       "Domino's Pizza                  India            79\n",
       "Subway                          India            63\n",
       "Green Chick Chop                India            51\n",
       "McDonald's                      India            48\n",
       "...                                             ...\n",
       "Gibson's Gourmet Burgers & Ribs South Africa      1\n",
       "Giapo                           New Zealand       1\n",
       "Giani's di Hatti                India             1\n",
       "Gian Ji Punjabi Dhaba           India             1\n",
       "Ìàukura€Ùa Sofras€±             Turkey            1\n",
       "\n",
       "[7472 rows x 1 columns]"
      ]
     },
     "execution_count": 27,
     "metadata": {},
     "output_type": "execute_result"
    }
   ],
   "source": [
    "cntry_dist = final_df.groupby(['Restaurant Name','Country']).agg( Count = ('Restaurant Name','count'))\n",
    "cntry_dist.sort_values(by='Count',ascending=False)"
   ]
  },
  {
   "cell_type": "markdown",
   "id": "a2d0a79c",
   "metadata": {},
   "source": [
    "Observations:\n",
    "    1. Cafe Coffee Day has maximum restaurants inside india, it is followed by Dominos,Pizza and Subway"
   ]
  },
  {
   "cell_type": "markdown",
   "id": "0195cf8e",
   "metadata": {},
   "source": [
    "5.Find out the ratio between restaurants that allow table booking vs. those that do not allow table booking"
   ]
  },
  {
   "cell_type": "code",
   "execution_count": 28,
   "id": "6b9498d2",
   "metadata": {},
   "outputs": [
    {
     "data": {
      "text/plain": [
       "No     8393\n",
       "Yes    1158\n",
       "Name: Has Table booking, dtype: int64"
      ]
     },
     "execution_count": 28,
     "metadata": {},
     "output_type": "execute_result"
    }
   ],
   "source": [
    "final_df['Has Table booking'].value_counts()"
   ]
  },
  {
   "cell_type": "code",
   "execution_count": 29,
   "id": "3cbbe472",
   "metadata": {},
   "outputs": [
    {
     "data": {
      "text/plain": [
       "87.88"
      ]
     },
     "execution_count": 29,
     "metadata": {},
     "output_type": "execute_result"
    }
   ],
   "source": [
    "# percentage of Restaurants that not allow table booking:\n",
    "round(8393/(8393+1158)*100,2)"
   ]
  },
  {
   "cell_type": "code",
   "execution_count": 30,
   "id": "c549f4dc",
   "metadata": {},
   "outputs": [
    {
     "data": {
      "text/plain": [
       "12.12"
      ]
     },
     "execution_count": 30,
     "metadata": {},
     "output_type": "execute_result"
    }
   ],
   "source": [
    "# percentage of Restaurants that allow table booking:\n",
    "round(1158/(8393+1158)*100,2)"
   ]
  },
  {
   "cell_type": "markdown",
   "id": "f9ec963a",
   "metadata": {},
   "source": [
    "Obsevation:\n",
    "<br>\n",
    "    1 87.88% restaurants out of total restaurants not allow table booking.\n",
    "<br>    \n",
    "    2. 12.12% restaurants out of total restaurants allow table booking.\n",
    "    "
   ]
  },
  {
   "cell_type": "markdown",
   "id": "c1eb7056",
   "metadata": {},
   "source": [
    "6. Find out the percentage of restaurants providing online delivery"
   ]
  },
  {
   "cell_type": "code",
   "execution_count": 31,
   "id": "66b6ce97",
   "metadata": {},
   "outputs": [
    {
     "data": {
      "text/plain": [
       "No     7100\n",
       "Yes    2451\n",
       "Name: Has Online delivery, dtype: int64"
      ]
     },
     "execution_count": 31,
     "metadata": {},
     "output_type": "execute_result"
    }
   ],
   "source": [
    "final_df['Has Online delivery'].value_counts()"
   ]
  },
  {
   "cell_type": "code",
   "execution_count": 32,
   "id": "9b967cda",
   "metadata": {},
   "outputs": [
    {
     "data": {
      "text/plain": [
       "25.66"
      ]
     },
     "execution_count": 32,
     "metadata": {},
     "output_type": "execute_result"
    }
   ],
   "source": [
    "#Percentage of restaurants providing online delivery\n",
    "round(2451/(7100+2451)*100,2)"
   ]
  },
  {
   "cell_type": "markdown",
   "id": "2789167a",
   "metadata": {},
   "source": [
    "Observation: <br> 25.66% restaurants our of total restaurants providing online delivery"
   ]
  },
  {
   "cell_type": "markdown",
   "id": "4f5609d4",
   "metadata": {},
   "source": [
    "<br> 7. Calculate the difference in number of votes for the restaurants that deliver and the restaurants that do not deliver"
   ]
  },
  {
   "cell_type": "code",
   "execution_count": 33,
   "id": "5848fe3e",
   "metadata": {},
   "outputs": [
    {
     "data": {
      "text/plain": [
       "(9551, 20)"
      ]
     },
     "execution_count": 33,
     "metadata": {},
     "output_type": "execute_result"
    }
   ],
   "source": [
    "final_df.shape"
   ]
  },
  {
   "cell_type": "code",
   "execution_count": 34,
   "id": "e002e72d",
   "metadata": {},
   "outputs": [
    {
     "data": {
      "text/plain": [
       "(9551, 2)"
      ]
     },
     "execution_count": 34,
     "metadata": {},
     "output_type": "execute_result"
    }
   ],
   "source": [
    "f2=final_df[['Has Online delivery','Votes']]\n",
    "f2.shape"
   ]
  },
  {
   "cell_type": "code",
   "execution_count": 35,
   "id": "17ab79f0",
   "metadata": {},
   "outputs": [
    {
     "data": {
      "text/plain": [
       "No     7100\n",
       "Yes    2451\n",
       "Name: Has Online delivery, dtype: int64"
      ]
     },
     "execution_count": 35,
     "metadata": {},
     "output_type": "execute_result"
    }
   ],
   "source": [
    "f2['Has Online delivery'].value_counts()"
   ]
  },
  {
   "cell_type": "code",
   "execution_count": 36,
   "id": "b05afb49",
   "metadata": {},
   "outputs": [
    {
     "data": {
      "text/html": [
       "<div>\n",
       "<style scoped>\n",
       "    .dataframe tbody tr th:only-of-type {\n",
       "        vertical-align: middle;\n",
       "    }\n",
       "\n",
       "    .dataframe tbody tr th {\n",
       "        vertical-align: top;\n",
       "    }\n",
       "\n",
       "    .dataframe thead th {\n",
       "        text-align: right;\n",
       "    }\n",
       "</style>\n",
       "<table border=\"1\" class=\"dataframe\">\n",
       "  <thead>\n",
       "    <tr style=\"text-align: right;\">\n",
       "      <th></th>\n",
       "      <th>index</th>\n",
       "      <th>Has Online delivery</th>\n",
       "      <th>Votes</th>\n",
       "    </tr>\n",
       "  </thead>\n",
       "  <tbody>\n",
       "    <tr>\n",
       "      <th>0</th>\n",
       "      <td>0</td>\n",
       "      <td>No</td>\n",
       "      <td>1498</td>\n",
       "    </tr>\n",
       "  </tbody>\n",
       "</table>\n",
       "</div>"
      ],
      "text/plain": [
       "   index Has Online delivery  Votes\n",
       "0      0                  No   1498"
      ]
     },
     "execution_count": 36,
     "metadata": {},
     "output_type": "execute_result"
    }
   ],
   "source": [
    "Votes_res_NO_online_del=f2[f2['Has Online delivery']=='No'].reset_index()\n",
    "Votes_res_NO_online_del.head(1)"
   ]
  },
  {
   "cell_type": "code",
   "execution_count": 37,
   "id": "c498f98b",
   "metadata": {},
   "outputs": [
    {
     "data": {
      "text/plain": [
       "980731"
      ]
     },
     "execution_count": 37,
     "metadata": {},
     "output_type": "execute_result"
    }
   ],
   "source": [
    "Votes_res_NO_online_del['Votes'].sum()"
   ]
  },
  {
   "cell_type": "code",
   "execution_count": 38,
   "id": "33b20977",
   "metadata": {},
   "outputs": [
    {
     "data": {
      "text/plain": [
       "(2451, 3)"
      ]
     },
     "execution_count": 38,
     "metadata": {},
     "output_type": "execute_result"
    }
   ],
   "source": [
    "Votes_res_Online_deliver=f2[f2['Has Online delivery']=='Yes'].reset_index()\n",
    "Votes_res_Online_deliver.shape"
   ]
  },
  {
   "cell_type": "code",
   "execution_count": 39,
   "id": "2040093c",
   "metadata": {},
   "outputs": [
    {
     "data": {
      "text/plain": [
       "517914"
      ]
     },
     "execution_count": 39,
     "metadata": {},
     "output_type": "execute_result"
    }
   ],
   "source": [
    "Votes_res_Online_deliver['Votes'].sum()"
   ]
  },
  {
   "cell_type": "code",
   "execution_count": 40,
   "id": "1ba25718",
   "metadata": {},
   "outputs": [
    {
     "data": {
      "text/plain": [
       "462817"
      ]
     },
     "execution_count": 40,
     "metadata": {},
     "output_type": "execute_result"
    }
   ],
   "source": [
    "# The Diffrence in no of Votes are:\n",
    "Votes_res_NO_online_del['Votes'].sum()-Votes_res_Online_deliver['Votes'].sum()"
   ]
  },
  {
   "cell_type": "markdown",
   "id": "28d074f2",
   "metadata": {},
   "source": [
    "Obsevation<br>\n",
    "The Diffrence in no of Votes are: 462817"
   ]
  },
  {
   "cell_type": "markdown",
   "id": "fbdeabaa",
   "metadata": {},
   "source": [
    "# Project Task: Week 2<br>EDA\n"
   ]
  },
  {
   "cell_type": "markdown",
   "id": "b590ce0e",
   "metadata": {},
   "source": [
    "1.What are the top 10 cuisines served across cities?"
   ]
  },
  {
   "cell_type": "code",
   "execution_count": 41,
   "id": "554db04b",
   "metadata": {},
   "outputs": [],
   "source": [
    "import re\n",
    "\n",
    "final_df.index=range(final_df.shape[0])\n",
    "likes=[]\n",
    "for i in range(final_df.shape[0]):\n",
    "    array_split=re.split(',',final_df['Cuisines'][i])\n",
    "    for item in array_split:\n",
    "        likes.append(item)"
   ]
  },
  {
   "cell_type": "code",
   "execution_count": 42,
   "id": "07f2cea4",
   "metadata": {},
   "outputs": [],
   "source": [
    "final_df.index=range(final_df.shape[0])"
   ]
  },
  {
   "cell_type": "code",
   "execution_count": 43,
   "id": "756fcaa1",
   "metadata": {},
   "outputs": [
    {
     "data": {
      "text/plain": [
       "RangeIndex(start=0, stop=9551, step=1)"
      ]
     },
     "execution_count": 43,
     "metadata": {},
     "output_type": "execute_result"
    }
   ],
   "source": [
    "final_df.index"
   ]
  },
  {
   "cell_type": "code",
   "execution_count": 44,
   "id": "9ee435c1",
   "metadata": {},
   "outputs": [
    {
     "name": "stdout",
     "output_type": "stream",
     "text": [
      "Count of Most liked cuisines in cites\n"
     ]
    },
    {
     "data": {
      "text/plain": [
       "North Indian     3001\n",
       " Chinese         1880\n",
       " Fast Food       1314\n",
       " North Indian     968\n",
       "Chinese           855\n",
       " Mughlai          780\n",
       "Fast Food         672\n",
       "Bakery            621\n",
       "Cafe              617\n",
       " Italian          530\n",
       "dtype: int64"
      ]
     },
     "execution_count": 44,
     "metadata": {},
     "output_type": "execute_result"
    }
   ],
   "source": [
    "print(\"Count of Most liked cuisines in cites\")\n",
    "favourite_cuisines = pd.Series(likes).value_counts()\n",
    "favourite_cuisines.head(10)"
   ]
  },
  {
   "cell_type": "code",
   "execution_count": null,
   "id": "4d164547",
   "metadata": {},
   "outputs": [],
   "source": []
  },
  {
   "cell_type": "markdown",
   "id": "8c3fbce7",
   "metadata": {},
   "source": [
    "Observation:<br> The top 10 cuisines are \n",
    "    "
   ]
  },
  {
   "cell_type": "code",
   "execution_count": 45,
   "id": "921dcda4",
   "metadata": {},
   "outputs": [
    {
     "data": {
      "image/png": "[encoded data removed]",
      "text/plain": [
       "<Figure size 432x288 with 1 Axes>"
      ]
     },
     "metadata": {},
     "output_type": "display_data"
    }
   ],
   "source": [
    "plt.pie(favourite_cuisines.values[:10],labels=favourite_cuisines.index[:10],radius=2,autopct='%1.2f%%');"
   ]
  },
  {
   "cell_type": "markdown",
   "id": "adf9565e",
   "metadata": {},
   "source": [
    "What is the maximum and minimum number of cuisines that a restaurant serves? Also, which is the most served cuisine across the restaurant for each city?"
   ]
  },
  {
   "cell_type": "markdown",
   "id": "d98bd597",
   "metadata": {},
   "source": [
    "Observation:<br>Maximum number of cuisines served by the restaurants are 8.<br>Minimum no. of cuisines served by the restaurant are 1."
   ]
  },
  {
   "cell_type": "code",
   "execution_count": null,
   "id": "c082dfaf",
   "metadata": {},
   "outputs": [],
   "source": []
  },
  {
   "cell_type": "markdown",
   "id": "348aed64",
   "metadata": {},
   "source": [
    "Observation:<br>1. cuisines_1 is the most served cuisine across the restaurant for Abu Dhabi"
   ]
  },
  {
   "cell_type": "code",
   "execution_count": 46,
   "id": "e1e12068",
   "metadata": {},
   "outputs": [
    {
     "data": {
      "text/plain": [
       "Index(['Restaurant ID', 'Restaurant Name', 'Country Code', 'City', 'Address',\n",
       "       'Locality', 'Locality Verbose', 'Longitude', 'Latitude', 'Cuisines',\n",
       "       'Average Cost for two', 'Currency', 'Has Table booking',\n",
       "       'Has Online delivery', 'Price range', 'Aggregate rating',\n",
       "       'Rating color', 'Rating text', 'Votes', 'Country'],\n",
       "      dtype='object')"
      ]
     },
     "execution_count": 46,
     "metadata": {},
     "output_type": "execute_result"
    }
   ],
   "source": [
    "final_df.columns"
   ]
  },
  {
   "cell_type": "markdown",
   "id": "a4b7ee7f",
   "metadata": {},
   "source": [
    "3.What is the distribution cost across the restaurants? "
   ]
  },
  {
   "cell_type": "code",
   "execution_count": 47,
   "id": "2e9a8c2d",
   "metadata": {},
   "outputs": [
    {
     "data": {
      "text/plain": [
       "<matplotlib.legend.Legend at 0x39712f35e0>"
      ]
     },
     "execution_count": 47,
     "metadata": {},
     "output_type": "execute_result"
    },
    {
     "data": {
      "image/png": "[encoded data removed]",
      "text/plain": [
       "<Figure size 864x540 with 1 Axes>"
      ]
     },
     "metadata": {
      "needs_background": "light"
     },
     "output_type": "display_data"
    }
   ],
   "source": [
    "plt.rcParams[\"figure.figsize\"] = (12,7.5)\n",
    "final_df['Average Cost for two'].plot(kind='hist',bins=4,label='Distribution Cost')\n",
    "plt.legend()"
   ]
  },
  {
   "cell_type": "code",
   "execution_count": 48,
   "id": "5a360971",
   "metadata": {},
   "outputs": [
    {
     "name": "stderr",
     "output_type": "stream",
     "text": [
      "C:\\Users\\hp\\anaconda3\\lib\\site-packages\\seaborn\\distributions.py:2557: FutureWarning: `distplot` is a deprecated function and will be removed in a future version. Please adapt your code to use either `displot` (a figure-level function with similar flexibility) or `histplot` (an axes-level function for histograms).\n",
      "  warnings.warn(msg, FutureWarning)\n"
     ]
    },
    {
     "data": {
      "text/plain": [
       "<AxesSubplot:xlabel='Average Cost for two', ylabel='Density'>"
      ]
     },
     "execution_count": 48,
     "metadata": {},
     "output_type": "execute_result"
    },
    {
     "data": {
      "image/png": "[encoded data removed]",
      "text/plain": [
       "<Figure size 864x540 with 1 Axes>"
      ]
     },
     "metadata": {
      "needs_background": "light"
     },
     "output_type": "display_data"
    }
   ],
   "source": [
    "sns.distplot(final_df['Average Cost for two'],color=\"green\")"
   ]
  },
  {
   "cell_type": "markdown",
   "id": "f92c99fe",
   "metadata": {},
   "source": [
    "4.How ratings are distributed among the various factors?"
   ]
  },
  {
   "cell_type": "code",
   "execution_count": 49,
   "id": "8754e8a6",
   "metadata": {},
   "outputs": [],
   "source": [
    "ratings=final_df.groupby(['Aggregate rating','Rating color', 'Rating text']).size().reset_index().rename(columns={0:'Rating Count'})"
   ]
  },
  {
   "cell_type": "code",
   "execution_count": 50,
   "id": "c029da2e",
   "metadata": {},
   "outputs": [
    {
     "data": {
      "text/html": [
       "<div>\n",
       "<style scoped>\n",
       "    .dataframe tbody tr th:only-of-type {\n",
       "        vertical-align: middle;\n",
       "    }\n",
       "\n",
       "    .dataframe tbody tr th {\n",
       "        vertical-align: top;\n",
       "    }\n",
       "\n",
       "    .dataframe thead th {\n",
       "        text-align: right;\n",
       "    }\n",
       "</style>\n",
       "<table border=\"1\" class=\"dataframe\">\n",
       "  <thead>\n",
       "    <tr style=\"text-align: right;\">\n",
       "      <th></th>\n",
       "      <th>Aggregate rating</th>\n",
       "      <th>Rating color</th>\n",
       "      <th>Rating text</th>\n",
       "      <th>Rating Count</th>\n",
       "    </tr>\n",
       "  </thead>\n",
       "  <tbody>\n",
       "    <tr>\n",
       "      <th>0</th>\n",
       "      <td>0.0</td>\n",
       "      <td>White</td>\n",
       "      <td>Not rated</td>\n",
       "      <td>2148</td>\n",
       "    </tr>\n",
       "    <tr>\n",
       "      <th>1</th>\n",
       "      <td>1.8</td>\n",
       "      <td>Red</td>\n",
       "      <td>Poor</td>\n",
       "      <td>1</td>\n",
       "    </tr>\n",
       "    <tr>\n",
       "      <th>2</th>\n",
       "      <td>1.9</td>\n",
       "      <td>Red</td>\n",
       "      <td>Poor</td>\n",
       "      <td>2</td>\n",
       "    </tr>\n",
       "    <tr>\n",
       "      <th>3</th>\n",
       "      <td>2.0</td>\n",
       "      <td>Red</td>\n",
       "      <td>Poor</td>\n",
       "      <td>7</td>\n",
       "    </tr>\n",
       "    <tr>\n",
       "      <th>4</th>\n",
       "      <td>2.1</td>\n",
       "      <td>Red</td>\n",
       "      <td>Poor</td>\n",
       "      <td>15</td>\n",
       "    </tr>\n",
       "    <tr>\n",
       "      <th>5</th>\n",
       "      <td>2.2</td>\n",
       "      <td>Red</td>\n",
       "      <td>Poor</td>\n",
       "      <td>27</td>\n",
       "    </tr>\n",
       "    <tr>\n",
       "      <th>6</th>\n",
       "      <td>2.3</td>\n",
       "      <td>Red</td>\n",
       "      <td>Poor</td>\n",
       "      <td>47</td>\n",
       "    </tr>\n",
       "    <tr>\n",
       "      <th>7</th>\n",
       "      <td>2.4</td>\n",
       "      <td>Red</td>\n",
       "      <td>Poor</td>\n",
       "      <td>87</td>\n",
       "    </tr>\n",
       "    <tr>\n",
       "      <th>8</th>\n",
       "      <td>2.5</td>\n",
       "      <td>Orange</td>\n",
       "      <td>Average</td>\n",
       "      <td>110</td>\n",
       "    </tr>\n",
       "    <tr>\n",
       "      <th>9</th>\n",
       "      <td>2.6</td>\n",
       "      <td>Orange</td>\n",
       "      <td>Average</td>\n",
       "      <td>191</td>\n",
       "    </tr>\n",
       "  </tbody>\n",
       "</table>\n",
       "</div>"
      ],
      "text/plain": [
       "   Aggregate rating Rating color Rating text  Rating Count\n",
       "0               0.0        White   Not rated          2148\n",
       "1               1.8          Red        Poor             1\n",
       "2               1.9          Red        Poor             2\n",
       "3               2.0          Red        Poor             7\n",
       "4               2.1          Red        Poor            15\n",
       "5               2.2          Red        Poor            27\n",
       "6               2.3          Red        Poor            47\n",
       "7               2.4          Red        Poor            87\n",
       "8               2.5       Orange     Average           110\n",
       "9               2.6       Orange     Average           191"
      ]
     },
     "execution_count": 50,
     "metadata": {},
     "output_type": "execute_result"
    }
   ],
   "source": [
    "ratings.head(10)"
   ]
  },
  {
   "cell_type": "code",
   "execution_count": 51,
   "id": "bb06513b",
   "metadata": {},
   "outputs": [
    {
     "data": {
      "text/plain": [
       "<AxesSubplot:xlabel='Aggregate rating', ylabel='Rating Count'>"
      ]
     },
     "execution_count": 51,
     "metadata": {},
     "output_type": "execute_result"
    },
    {
     "data": {
      "image/png": "[encoded data removed]",
      "text/plain": [
       "<Figure size 864x432 with 1 Axes>"
      ]
     },
     "metadata": {
      "needs_background": "light"
     },
     "output_type": "display_data"
    }
   ],
   "source": [
    "plt.rcParams['figure.figsize']= (12,6)\n",
    "sns.barplot(x=\"Aggregate rating\",y='Rating Count',data=ratings)"
   ]
  },
  {
   "cell_type": "markdown",
   "id": "b0d4a3ed",
   "metadata": {},
   "source": [
    "Observation:<br> After 0 rating maximum ratings are between 2.8 to 3.8"
   ]
  },
  {
   "cell_type": "markdown",
   "id": "63107ea7",
   "metadata": {},
   "source": [
    "5.Explain the factors in the data that may have an effect on ratings. For example, number of cuisines, cost, delivery option, etc"
   ]
  },
  {
   "cell_type": "code",
   "execution_count": 52,
   "id": "f2ca6d2a",
   "metadata": {},
   "outputs": [
    {
     "data": {
      "text/html": [
       "<div>\n",
       "<style scoped>\n",
       "    .dataframe tbody tr th:only-of-type {\n",
       "        vertical-align: middle;\n",
       "    }\n",
       "\n",
       "    .dataframe tbody tr th {\n",
       "        vertical-align: top;\n",
       "    }\n",
       "\n",
       "    .dataframe thead th {\n",
       "        text-align: right;\n",
       "    }\n",
       "</style>\n",
       "<table border=\"1\" class=\"dataframe\">\n",
       "  <thead>\n",
       "    <tr style=\"text-align: right;\">\n",
       "      <th></th>\n",
       "      <th>Has Online delivery</th>\n",
       "      <th>Zero Rating</th>\n",
       "    </tr>\n",
       "  </thead>\n",
       "  <tbody>\n",
       "    <tr>\n",
       "      <th>0</th>\n",
       "      <td>No</td>\n",
       "      <td>2052</td>\n",
       "    </tr>\n",
       "    <tr>\n",
       "      <th>1</th>\n",
       "      <td>Yes</td>\n",
       "      <td>96</td>\n",
       "    </tr>\n",
       "  </tbody>\n",
       "</table>\n",
       "</div>"
      ],
      "text/plain": [
       "  Has Online delivery  Zero Rating\n",
       "0                  No         2052\n",
       "1                 Yes           96"
      ]
     },
     "execution_count": 52,
     "metadata": {},
     "output_type": "execute_result"
    }
   ],
   "source": [
    "final_df[final_df['Aggregate rating']==0].groupby('Has Online delivery').size().reset_index().rename(columns={0:'Zero Rating'})"
   ]
  },
  {
   "cell_type": "markdown",
   "id": "61e86cae",
   "metadata": {},
   "source": [
    "Obsevation:<br>1. Those restaurants have not Online delivery get Zero Ratings more"
   ]
  },
  {
   "cell_type": "code",
   "execution_count": 53,
   "id": "570404af",
   "metadata": {},
   "outputs": [
    {
     "data": {
      "text/html": [
       "<div>\n",
       "<style scoped>\n",
       "    .dataframe tbody tr th:only-of-type {\n",
       "        vertical-align: middle;\n",
       "    }\n",
       "\n",
       "    .dataframe tbody tr th {\n",
       "        vertical-align: top;\n",
       "    }\n",
       "\n",
       "    .dataframe thead th {\n",
       "        text-align: right;\n",
       "    }\n",
       "</style>\n",
       "<table border=\"1\" class=\"dataframe\">\n",
       "  <thead>\n",
       "    <tr style=\"text-align: right;\">\n",
       "      <th></th>\n",
       "      <th>Country</th>\n",
       "      <th>Zero Rating</th>\n",
       "    </tr>\n",
       "  </thead>\n",
       "  <tbody>\n",
       "    <tr>\n",
       "      <th>2</th>\n",
       "      <td>United Kingdom</td>\n",
       "      <td>1</td>\n",
       "    </tr>\n",
       "    <tr>\n",
       "      <th>3</th>\n",
       "      <td>United States</td>\n",
       "      <td>3</td>\n",
       "    </tr>\n",
       "    <tr>\n",
       "      <th>0</th>\n",
       "      <td>Brazil</td>\n",
       "      <td>5</td>\n",
       "    </tr>\n",
       "    <tr>\n",
       "      <th>1</th>\n",
       "      <td>India</td>\n",
       "      <td>2139</td>\n",
       "    </tr>\n",
       "  </tbody>\n",
       "</table>\n",
       "</div>"
      ],
      "text/plain": [
       "          Country  Zero Rating\n",
       "2  United Kingdom            1\n",
       "3   United States            3\n",
       "0          Brazil            5\n",
       "1           India         2139"
      ]
     },
     "execution_count": 53,
     "metadata": {},
     "output_type": "execute_result"
    }
   ],
   "source": [
    "final_df[final_df['Aggregate rating']==0].groupby('Country').size().reset_index().sort_values(0).rename(columns={0:'Zero Rating'})"
   ]
  },
  {
   "cell_type": "markdown",
   "id": "2809343b",
   "metadata": {},
   "source": [
    "Observation:<br>1. Maximum zero rating given from India<br>2.Minimum Zero rating given from U.K."
   ]
  },
  {
   "cell_type": "code",
   "execution_count": 54,
   "id": "a52c8006",
   "metadata": {},
   "outputs": [
    {
     "data": {
      "text/html": [
       "<div>\n",
       "<style scoped>\n",
       "    .dataframe tbody tr th:only-of-type {\n",
       "        vertical-align: middle;\n",
       "    }\n",
       "\n",
       "    .dataframe tbody tr th {\n",
       "        vertical-align: top;\n",
       "    }\n",
       "\n",
       "    .dataframe thead th {\n",
       "        text-align: right;\n",
       "    }\n",
       "</style>\n",
       "<table border=\"1\" class=\"dataframe\">\n",
       "  <thead>\n",
       "    <tr style=\"text-align: right;\">\n",
       "      <th></th>\n",
       "      <th>Average Cost for two</th>\n",
       "      <th>Zero Rating</th>\n",
       "    </tr>\n",
       "  </thead>\n",
       "  <tbody>\n",
       "    <tr>\n",
       "      <th>13</th>\n",
       "      <td>300</td>\n",
       "      <td>388</td>\n",
       "    </tr>\n",
       "    <tr>\n",
       "      <th>10</th>\n",
       "      <td>200</td>\n",
       "      <td>342</td>\n",
       "    </tr>\n",
       "    <tr>\n",
       "      <th>15</th>\n",
       "      <td>400</td>\n",
       "      <td>229</td>\n",
       "    </tr>\n",
       "    <tr>\n",
       "      <th>17</th>\n",
       "      <td>500</td>\n",
       "      <td>200</td>\n",
       "    </tr>\n",
       "    <tr>\n",
       "      <th>11</th>\n",
       "      <td>250</td>\n",
       "      <td>194</td>\n",
       "    </tr>\n",
       "    <tr>\n",
       "      <th>7</th>\n",
       "      <td>100</td>\n",
       "      <td>185</td>\n",
       "    </tr>\n",
       "    <tr>\n",
       "      <th>9</th>\n",
       "      <td>150</td>\n",
       "      <td>151</td>\n",
       "    </tr>\n",
       "    <tr>\n",
       "      <th>14</th>\n",
       "      <td>350</td>\n",
       "      <td>137</td>\n",
       "    </tr>\n",
       "    <tr>\n",
       "      <th>19</th>\n",
       "      <td>600</td>\n",
       "      <td>102</td>\n",
       "    </tr>\n",
       "    <tr>\n",
       "      <th>16</th>\n",
       "      <td>450</td>\n",
       "      <td>56</td>\n",
       "    </tr>\n",
       "    <tr>\n",
       "      <th>21</th>\n",
       "      <td>700</td>\n",
       "      <td>32</td>\n",
       "    </tr>\n",
       "    <tr>\n",
       "      <th>23</th>\n",
       "      <td>800</td>\n",
       "      <td>24</td>\n",
       "    </tr>\n",
       "    <tr>\n",
       "      <th>26</th>\n",
       "      <td>1000</td>\n",
       "      <td>19</td>\n",
       "    </tr>\n",
       "    <tr>\n",
       "      <th>18</th>\n",
       "      <td>550</td>\n",
       "      <td>19</td>\n",
       "    </tr>\n",
       "    <tr>\n",
       "      <th>3</th>\n",
       "      <td>50</td>\n",
       "      <td>16</td>\n",
       "    </tr>\n",
       "    <tr>\n",
       "      <th>20</th>\n",
       "      <td>650</td>\n",
       "      <td>9</td>\n",
       "    </tr>\n",
       "    <tr>\n",
       "      <th>25</th>\n",
       "      <td>900</td>\n",
       "      <td>6</td>\n",
       "    </tr>\n",
       "    <tr>\n",
       "      <th>31</th>\n",
       "      <td>1500</td>\n",
       "      <td>6</td>\n",
       "    </tr>\n",
       "    <tr>\n",
       "      <th>32</th>\n",
       "      <td>2000</td>\n",
       "      <td>6</td>\n",
       "    </tr>\n",
       "    <tr>\n",
       "      <th>28</th>\n",
       "      <td>1200</td>\n",
       "      <td>5</td>\n",
       "    </tr>\n",
       "    <tr>\n",
       "      <th>24</th>\n",
       "      <td>850</td>\n",
       "      <td>3</td>\n",
       "    </tr>\n",
       "    <tr>\n",
       "      <th>1</th>\n",
       "      <td>25</td>\n",
       "      <td>3</td>\n",
       "    </tr>\n",
       "    <tr>\n",
       "      <th>36</th>\n",
       "      <td>3000</td>\n",
       "      <td>2</td>\n",
       "    </tr>\n",
       "    <tr>\n",
       "      <th>22</th>\n",
       "      <td>750</td>\n",
       "      <td>1</td>\n",
       "    </tr>\n",
       "    <tr>\n",
       "      <th>12</th>\n",
       "      <td>260</td>\n",
       "      <td>1</td>\n",
       "    </tr>\n",
       "    <tr>\n",
       "      <th>8</th>\n",
       "      <td>120</td>\n",
       "      <td>1</td>\n",
       "    </tr>\n",
       "    <tr>\n",
       "      <th>6</th>\n",
       "      <td>70</td>\n",
       "      <td>1</td>\n",
       "    </tr>\n",
       "    <tr>\n",
       "      <th>27</th>\n",
       "      <td>1100</td>\n",
       "      <td>1</td>\n",
       "    </tr>\n",
       "    <tr>\n",
       "      <th>5</th>\n",
       "      <td>65</td>\n",
       "      <td>1</td>\n",
       "    </tr>\n",
       "    <tr>\n",
       "      <th>29</th>\n",
       "      <td>1250</td>\n",
       "      <td>1</td>\n",
       "    </tr>\n",
       "    <tr>\n",
       "      <th>30</th>\n",
       "      <td>1400</td>\n",
       "      <td>1</td>\n",
       "    </tr>\n",
       "    <tr>\n",
       "      <th>4</th>\n",
       "      <td>55</td>\n",
       "      <td>1</td>\n",
       "    </tr>\n",
       "    <tr>\n",
       "      <th>2</th>\n",
       "      <td>30</td>\n",
       "      <td>1</td>\n",
       "    </tr>\n",
       "    <tr>\n",
       "      <th>33</th>\n",
       "      <td>2100</td>\n",
       "      <td>1</td>\n",
       "    </tr>\n",
       "    <tr>\n",
       "      <th>34</th>\n",
       "      <td>2200</td>\n",
       "      <td>1</td>\n",
       "    </tr>\n",
       "    <tr>\n",
       "      <th>35</th>\n",
       "      <td>2500</td>\n",
       "      <td>1</td>\n",
       "    </tr>\n",
       "    <tr>\n",
       "      <th>0</th>\n",
       "      <td>20</td>\n",
       "      <td>1</td>\n",
       "    </tr>\n",
       "  </tbody>\n",
       "</table>\n",
       "</div>"
      ],
      "text/plain": [
       "    Average Cost for two  Zero Rating\n",
       "13                   300          388\n",
       "10                   200          342\n",
       "15                   400          229\n",
       "17                   500          200\n",
       "11                   250          194\n",
       "7                    100          185\n",
       "9                    150          151\n",
       "14                   350          137\n",
       "19                   600          102\n",
       "16                   450           56\n",
       "21                   700           32\n",
       "23                   800           24\n",
       "26                  1000           19\n",
       "18                   550           19\n",
       "3                     50           16\n",
       "20                   650            9\n",
       "25                   900            6\n",
       "31                  1500            6\n",
       "32                  2000            6\n",
       "28                  1200            5\n",
       "24                   850            3\n",
       "1                     25            3\n",
       "36                  3000            2\n",
       "22                   750            1\n",
       "12                   260            1\n",
       "8                    120            1\n",
       "6                     70            1\n",
       "27                  1100            1\n",
       "5                     65            1\n",
       "29                  1250            1\n",
       "30                  1400            1\n",
       "4                     55            1\n",
       "2                     30            1\n",
       "33                  2100            1\n",
       "34                  2200            1\n",
       "35                  2500            1\n",
       "0                     20            1"
      ]
     },
     "execution_count": 54,
     "metadata": {},
     "output_type": "execute_result"
    }
   ],
   "source": [
    "f3=final_df[final_df['Aggregate rating']==0].groupby('Average Cost for two').size().reset_index().rename(columns={0:'Zero Rating'}).sort_values('Zero Rating',ascending=False)\n",
    "f3"
   ]
  },
  {
   "cell_type": "code",
   "execution_count": 55,
   "id": "f7428673",
   "metadata": {},
   "outputs": [
    {
     "data": {
      "image/png": "[encoded data removed]",
      "text/plain": [
       "<Figure size 864x432 with 1 Axes>"
      ]
     },
     "metadata": {},
     "output_type": "display_data"
    }
   ],
   "source": [
    "plt.pie(x='Zero Rating',labels='Average Cost for two',data=f3[0:10],radius=1,autopct='%1.2f%%');"
   ]
  },
  {
   "cell_type": "markdown",
   "id": "c4796927",
   "metadata": {},
   "source": [
    "Observation:<br> Rating is very less dependent on cost"
   ]
  },
  {
   "cell_type": "code",
   "execution_count": 56,
   "id": "3726815a",
   "metadata": {},
   "outputs": [],
   "source": [
    "final_df.to_excel('final_df.xlsx',index=False)"
   ]
  },
  {
   "cell_type": "code",
   "execution_count": 57,
   "id": "fb904bbe",
   "metadata": {},
   "outputs": [
    {
     "data": {
      "text/plain": [
       "Index(['Restaurant ID', 'Restaurant Name', 'Country Code', 'City', 'Address',\n",
       "       'Locality', 'Locality Verbose', 'Longitude', 'Latitude', 'Cuisines',\n",
       "       'Average Cost for two', 'Currency', 'Has Table booking',\n",
       "       'Has Online delivery', 'Price range', 'Aggregate rating',\n",
       "       'Rating color', 'Rating text', 'Votes', 'Country'],\n",
       "      dtype='object')"
      ]
     },
     "execution_count": 57,
     "metadata": {},
     "output_type": "execute_result"
    }
   ],
   "source": [
    "final_df.columns"
   ]
  },
  {
   "cell_type": "code",
   "execution_count": 58,
   "id": "01edfdc2",
   "metadata": {},
   "outputs": [],
   "source": [
    "final_df['Cuisines_0']=final_df['Cuisines'].str.split(',').str[0]"
   ]
  },
  {
   "cell_type": "code",
   "execution_count": 59,
   "id": "d50a9761",
   "metadata": {},
   "outputs": [],
   "source": [
    "final_df['Cuisines_1']=final_df['Cuisines'].str.split(',').str[1]"
   ]
  },
  {
   "cell_type": "code",
   "execution_count": 60,
   "id": "641b649b",
   "metadata": {},
   "outputs": [],
   "source": [
    "final_df['Cuisines_2']=final_df['Cuisines'].str.split(',').str[2]"
   ]
  },
  {
   "cell_type": "code",
   "execution_count": 61,
   "id": "fd1ffc4e",
   "metadata": {},
   "outputs": [],
   "source": [
    "final_df['Cuisines_3']=final_df['Cuisines'].str.split(',').str[3]"
   ]
  },
  {
   "cell_type": "code",
   "execution_count": 62,
   "id": "ab5fdf26",
   "metadata": {},
   "outputs": [],
   "source": [
    "final_df['Cuisines_4']=final_df['Cuisines'].str.split(',').str[4]"
   ]
  },
  {
   "cell_type": "code",
   "execution_count": 63,
   "id": "a56a1ed8",
   "metadata": {},
   "outputs": [],
   "source": [
    "final_df['Cuisines_5']=final_df['Cuisines'].str.split(',').str[5]"
   ]
  },
  {
   "cell_type": "code",
   "execution_count": 64,
   "id": "5b7ca401",
   "metadata": {},
   "outputs": [],
   "source": [
    "final_df['Cuisines_6']=final_df['Cuisines'].str.split(',').str[6]"
   ]
  },
  {
   "cell_type": "code",
   "execution_count": 65,
   "id": "35a6555b",
   "metadata": {},
   "outputs": [],
   "source": [
    "final_df['Cuisines_7']=final_df['Cuisines'].str.split(',').str[7]"
   ]
  },
  {
   "cell_type": "code",
   "execution_count": 66,
   "id": "e7c9b74a",
   "metadata": {},
   "outputs": [
    {
     "data": {
      "text/plain": [
       "14"
      ]
     },
     "execution_count": 66,
     "metadata": {},
     "output_type": "execute_result"
    }
   ],
   "source": [
    "final_df['Cuisines_7'].notnull().sum()"
   ]
  },
  {
   "cell_type": "code",
   "execution_count": 67,
   "id": "e4c28771",
   "metadata": {},
   "outputs": [
    {
     "data": {
      "text/plain": [
       "Index(['Restaurant ID', 'Restaurant Name', 'Country Code', 'City', 'Address',\n",
       "       'Locality', 'Locality Verbose', 'Longitude', 'Latitude', 'Cuisines',\n",
       "       'Average Cost for two', 'Currency', 'Has Table booking',\n",
       "       'Has Online delivery', 'Price range', 'Aggregate rating',\n",
       "       'Rating color', 'Rating text', 'Votes', 'Country', 'Cuisines_0',\n",
       "       'Cuisines_1', 'Cuisines_2', 'Cuisines_3', 'Cuisines_4', 'Cuisines_5',\n",
       "       'Cuisines_6', 'Cuisines_7'],\n",
       "      dtype='object')"
      ]
     },
     "execution_count": 67,
     "metadata": {},
     "output_type": "execute_result"
    }
   ],
   "source": [
    "final_df.columns"
   ]
  },
  {
   "cell_type": "code",
   "execution_count": 68,
   "id": "2263926c",
   "metadata": {},
   "outputs": [],
   "source": [
    "final_df.to_excel('final_df.xlsx',index=False)"
   ]
  },
  {
   "cell_type": "code",
   "execution_count": null,
   "id": "59141aee",
   "metadata": {},
   "outputs": [],
   "source": []
  }
 ],
 "metadata": {
  "kernelspec": {
   "display_name": "Python 3",
   "language": "python",
   "name": "python3"
  },
  "language_info": {
   "codemirror_mode": {
    "name": "ipython",
    "version": 3
   },
   "file_extension": ".py",
   "mimetype": "text/x-python",
   "name": "python",
   "nbconvert_exporter": "python",
   "pygments_lexer": "ipython3",
   "version": "3.8.8"
  }
 },
 "nbformat": 4,
 "nbformat_minor": 5
}
